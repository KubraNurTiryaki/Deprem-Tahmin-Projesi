{
  "nbformat": 4,
  "nbformat_minor": 0,
  "metadata": {
    "colab": {
      "provenance": []
    },
    "kernelspec": {
      "name": "python3",
      "display_name": "Python 3"
    },
    "language_info": {
      "name": "python"
    }
  },
  "cells": [
    {
      "cell_type": "code",
      "execution_count": null,
      "metadata": {
        "id": "qOUrrh9SZYdu"
      },
      "outputs": [],
      "source": [
        "#ALLAHIM BİSMİLLAH BİTİRDİM AAAAAAAA\n",
        "\n",
        "import numpy as np\n",
        "import pandas as pd\n",
        "import seaborn as sns\n",
        "from datetime import datetime\n",
        "from sklearn.model_selection import train_test_split #,GridSearchCV\n",
        "from sklearn.metrics import mean_squared_error, r2_score\n",
        "import matplotlib.pyplot as plt\n",
        "from sklearn.preprocessing import scale\n",
        "from sklearn import model_selection\n",
        "from sklearn.linear_model import LinearRegression"
      ]
    },
    {
      "cell_type": "code",
      "source": [
        "dataSet=pd.read_csv((\"earthquake.csv\"), encoding='utf-8', engine='python',sep=',')\n",
        "data = dataSet[dataSet['country'] == 'turkey']  # dataSet setinde ülke olarak sadece Türkiye'yi bırakıyorum"
      ],
      "metadata": {
        "id": "trjQz2eXZ6X0"
      },
      "execution_count": null,
      "outputs": []
    },
    {
      "cell_type": "code",
      "source": [
        "data.info()"
      ],
      "metadata": {
        "colab": {
          "base_uri": "https://localhost:8080/"
        },
        "id": "1WibSSnH6wdH",
        "outputId": "d9234432-b1a6-4b26-98b6-40c997190f3c"
      },
      "execution_count": null,
      "outputs": [
        {
          "output_type": "stream",
          "name": "stdout",
          "text": [
            "<class 'pandas.core.frame.DataFrame'>\n",
            "Int64Index: 11850 entries, 0 to 24006\n",
            "Data columns (total 17 columns):\n",
            " #   Column     Non-Null Count  Dtype  \n",
            "---  ------     --------------  -----  \n",
            " 0   id         11850 non-null  float64\n",
            " 1   date       11850 non-null  object \n",
            " 2   time       11850 non-null  object \n",
            " 3   lat        11850 non-null  float64\n",
            " 4   long       11850 non-null  float64\n",
            " 5   country    11850 non-null  object \n",
            " 6   city       11728 non-null  object \n",
            " 7   area       11735 non-null  object \n",
            " 8   direction  10062 non-null  object \n",
            " 9   dist       10062 non-null  float64\n",
            " 10  depth      11850 non-null  float64\n",
            " 11  xm         11850 non-null  float64\n",
            " 12  md         11850 non-null  float64\n",
            " 13  richter    11850 non-null  float64\n",
            " 14  mw         2156 non-null   float64\n",
            " 15  ms         11850 non-null  float64\n",
            " 16  mb         11850 non-null  float64\n",
            "dtypes: float64(11), object(6)\n",
            "memory usage: 1.6+ MB\n"
          ]
        }
      ]
    },
    {
      "cell_type": "code",
      "source": [
        "print(data.dtypes)\n",
        "print(data.iloc[0])"
      ],
      "metadata": {
        "id": "UQD1jU9ZaN-3",
        "outputId": "29ee3cd9-56be-4e60-9215-5c4951b8ceb2",
        "colab": {
          "base_uri": "https://localhost:8080/"
        }
      },
      "execution_count": null,
      "outputs": [
        {
          "output_type": "stream",
          "name": "stdout",
          "text": [
            "id           float64\n",
            "date          object\n",
            "time          object\n",
            "lat          float64\n",
            "long         float64\n",
            "country       object\n",
            "city          object\n",
            "area          object\n",
            "direction     object\n",
            "dist         float64\n",
            "depth        float64\n",
            "xm           float64\n",
            "md           float64\n",
            "richter      float64\n",
            "mw           float64\n",
            "ms           float64\n",
            "mb           float64\n",
            "dtype: object\n",
            "id           20000000000000.0\n",
            "date               2003.05.20\n",
            "time              12:17:44 AM\n",
            "lat                     39.04\n",
            "long                    40.38\n",
            "country                turkey\n",
            "city                   bingol\n",
            "area               baliklicay\n",
            "direction                west\n",
            "dist                      0.1\n",
            "depth                    10.0\n",
            "xm                        4.1\n",
            "md                        4.1\n",
            "richter                   0.0\n",
            "mw                        NaN\n",
            "ms                        0.0\n",
            "mb                        0.0\n",
            "Name: 0, dtype: object\n"
          ]
        }
      ]
    },
    {
      "cell_type": "code",
      "source": [
        "data['date'] = pd.to_datetime(data['date'])\n",
        "data['year'] = data.date.apply(lambda x: x.year)\n",
        "data['month'] = data.date.apply(lambda x: x.month)\n",
        "data['weekday'] = data.date.apply(lambda x: x.dayofweek)\n"
      ],
      "metadata": {
        "colab": {
          "base_uri": "https://localhost:8080/"
        },
        "id": "y6a0HbyQZ7Dt",
        "outputId": "68fff7de-56c7-4dc2-d64a-a8c93221fd28"
      },
      "execution_count": null,
      "outputs": [
        {
          "output_type": "stream",
          "name": "stderr",
          "text": [
            "<ipython-input-26-b54c7db1b6cc>:1: SettingWithCopyWarning: \n",
            "A value is trying to be set on a copy of a slice from a DataFrame.\n",
            "Try using .loc[row_indexer,col_indexer] = value instead\n",
            "\n",
            "See the caveats in the documentation: https://pandas.pydata.org/pandas-docs/stable/user_guide/indexing.html#returning-a-view-versus-a-copy\n",
            "  data['date'] = pd.to_datetime(data['date'])\n",
            "<ipython-input-26-b54c7db1b6cc>:2: SettingWithCopyWarning: \n",
            "A value is trying to be set on a copy of a slice from a DataFrame.\n",
            "Try using .loc[row_indexer,col_indexer] = value instead\n",
            "\n",
            "See the caveats in the documentation: https://pandas.pydata.org/pandas-docs/stable/user_guide/indexing.html#returning-a-view-versus-a-copy\n",
            "  data['year'] = data.date.apply(lambda x: x.year)\n",
            "<ipython-input-26-b54c7db1b6cc>:3: SettingWithCopyWarning: \n",
            "A value is trying to be set on a copy of a slice from a DataFrame.\n",
            "Try using .loc[row_indexer,col_indexer] = value instead\n",
            "\n",
            "See the caveats in the documentation: https://pandas.pydata.org/pandas-docs/stable/user_guide/indexing.html#returning-a-view-versus-a-copy\n",
            "  data['month'] = data.date.apply(lambda x: x.month)\n",
            "<ipython-input-26-b54c7db1b6cc>:4: SettingWithCopyWarning: \n",
            "A value is trying to be set on a copy of a slice from a DataFrame.\n",
            "Try using .loc[row_indexer,col_indexer] = value instead\n",
            "\n",
            "See the caveats in the documentation: https://pandas.pydata.org/pandas-docs/stable/user_guide/indexing.html#returning-a-view-versus-a-copy\n",
            "  data['weekday'] = data.date.apply(lambda x: x.dayofweek)\n"
          ]
        }
      ]
    },
    {
      "cell_type": "code",
      "source": [
        "dataover4 = data[data.richter >= 4]\n",
        "\n",
        "plt.figure(figsize=(15,5))\n",
        "plt.subplot(1,2,1)                                        # Aylara göre depremlerin yoğunluğu\n",
        "dataover4.month.value_counts().sort_index().plot.bar()\n",
        "plt.xlabel('Aylar')\n",
        "plt.subplot(1,2,2)                                        # Günlere göre depremlerin yoğunluğu\n",
        "dataover4.weekday.value_counts().sort_index().plot.bar()\n",
        "plt.xlabel('Günler')"
      ],
      "metadata": {
        "colab": {
          "base_uri": "https://localhost:8080/",
          "height": 354
        },
        "id": "cdB4pC2TeKt2",
        "outputId": "c0ce394c-3b4d-4c9f-e0c5-8bc4dd8e37e9"
      },
      "execution_count": null,
      "outputs": [
        {
          "output_type": "execute_result",
          "data": {
            "text/plain": [
              "Text(0.5, 0, 'Günler')"
            ]
          },
          "metadata": {},
          "execution_count": 27
        },
        {
          "output_type": "display_data",
          "data": {
            "text/plain": [
              "<Figure size 1080x360 with 2 Axes>"
            ],
            "image/png": "[encoded data removed]"
          },
          "metadata": {
            "needs_background": "light"
          }
        }
      ]
    },
    {
      "cell_type": "code",
      "source": [
        "plt.figure(figsize=(15,5)) \n",
        "plt.subplot(1,2,1)                                                # Tüm depremlerin yıllara göre dağılımı\n",
        "plt.plot(data.year.value_counts().sort_index())\n",
        "plt.subplot(1,2,2)                                                # 4 ten büyük depremlerin yıllara göre dağılımı\n",
        "plt.plot(data[data.richter >=5].year.value_counts().sort_index())"
      ],
      "metadata": {
        "id": "kQjxT-qzaGi4",
        "colab": {
          "base_uri": "https://localhost:8080/",
          "height": 338
        },
        "outputId": "7d29007c-5659-4295-8a5f-2ea7fd571e8b"
      },
      "execution_count": null,
      "outputs": [
        {
          "output_type": "execute_result",
          "data": {
            "text/plain": [
              "[<matplotlib.lines.Line2D at 0x7f65d3e1ceb0>]"
            ]
          },
          "metadata": {},
          "execution_count": 28
        },
        {
          "output_type": "display_data",
          "data": {
            "text/plain": [
              "<Figure size 1080x360 with 2 Axes>"
            ],
            "image/png": "[encoded data removed]"
          },
          "metadata": {
            "needs_background": "light"
          }
        }
      ]
    },
    {
      "cell_type": "code",
      "source": [
        "data.year.value_counts().sort_index(ascending=False).plot.area()  # 4 ten büyük depremlerin tüm depremlerle ilişkisi\n",
        "data[data.richter >= 4].year.value_counts().sort_index(ascending=False).plot.area()\n",
        "plt.legend(['all earthquakes', '4 plus'])"
      ],
      "metadata": {
        "colab": {
          "base_uri": "https://localhost:8080/",
          "height": 283
        },
        "id": "HGR5FbnDainV",
        "outputId": "4be92ead-df3b-4cac-b53c-9d8878cac4fd"
      },
      "execution_count": null,
      "outputs": [
        {
          "output_type": "execute_result",
          "data": {
            "text/plain": [
              "<matplotlib.legend.Legend at 0x7f65d3ffd7f0>"
            ]
          },
          "metadata": {},
          "execution_count": 29
        },
        {
          "output_type": "display_data",
          "data": {
            "text/plain": [
              "<Figure size 432x288 with 1 Axes>"
            ],
            "image/png": "[encoded data removed]"
          },
          "metadata": {
            "needs_background": "light"
          }
        }
      ]
    },
    {
      "cell_type": "code",
      "source": [
        "data.describe()"
      ],
      "metadata": {
        "colab": {
          "base_uri": "https://localhost:8080/",
          "height": 364
        },
        "id": "X59pbfCDak5m",
        "outputId": "0876477a-4c23-4fdb-f3a0-035b03d60a4a"
      },
      "execution_count": null,
      "outputs": [
        {
          "output_type": "execute_result",
          "data": {
            "text/plain": [
              "                 id           lat          long          dist         depth  \\\n",
              "count  1.185000e+04  11850.000000  11850.000000  10062.000000  11850.000000   \n",
              "mean   1.993997e+13     38.745414     32.987835      3.175015     12.794177   \n",
              "std    1.922351e+11      1.312692      5.834084      4.715461     16.129368   \n",
              "min    1.910000e+13     35.770000     25.540000      0.100000      0.000000   \n",
              "25%    1.980000e+13     37.730000     28.170000      1.400000      5.000000   \n",
              "50%    2.000000e+13     38.780000     30.280000      2.300000      8.500000   \n",
              "75%    2.010000e+13     39.600000     38.600000      3.600000     13.000000   \n",
              "max    2.020000e+13     46.350000     45.000000     95.400000    180.000000   \n",
              "\n",
              "                 xm            md       richter           mw            ms  \\\n",
              "count  11850.000000  11850.000000  11850.000000  2156.000000  11850.000000   \n",
              "mean       3.979249      2.239924      1.762540     4.459323      0.577105   \n",
              "std        0.550732      1.993712      2.068619     1.030654      1.561681   \n",
              "min        3.500000      0.000000      0.000000     0.000000      0.000000   \n",
              "25%        3.600000      0.000000      0.000000     4.000000      0.000000   \n",
              "50%        3.800000      3.500000      0.000000     4.600000      0.000000   \n",
              "75%        4.200000      3.800000      3.900000     5.000000      0.000000   \n",
              "max        7.900000      7.400000      7.200000     7.700000      7.900000   \n",
              "\n",
              "                 mb          year         month       weekday  \n",
              "count  11850.000000  11850.000000  11850.000000  11850.000000  \n",
              "mean       1.397671   1993.404557      6.483038      3.039072  \n",
              "std        2.034418     19.028273      3.361991      2.021049  \n",
              "min        0.000000   1911.000000      1.000000      0.000000  \n",
              "25%        0.000000   1982.000000      4.000000      1.000000  \n",
              "50%        0.000000   1999.000000      6.000000      3.000000  \n",
              "75%        3.700000   2007.000000     10.000000      5.000000  \n",
              "max        7.100000   2017.000000     12.000000      6.000000  "
            ],
            "text/html": [
              "\n",
              "  <div id=\"df-ee93b30a-2c82-40b4-9ab1-cf71910dd6a3\">\n",
              "    <div class=\"colab-df-container\">\n",
              "      <div>\n",
              "<style scoped>\n",
              "    .dataframe tbody tr th:only-of-type {\n",
              "        vertical-align: middle;\n",
              "    }\n",
              "\n",
              "    .dataframe tbody tr th {\n",
              "        vertical-align: top;\n",
              "    }\n",
              "\n",
              "    .dataframe thead th {\n",
              "        text-align: right;\n",
              "    }\n",
              "</style>\n",
              "<table border=\"1\" class=\"dataframe\">\n",
              "  <thead>\n",
              "    <tr style=\"text-align: right;\">\n",
              "      <th></th>\n",
              "      <th>id</th>\n",
              "      <th>lat</th>\n",
              "      <th>long</th>\n",
              "      <th>dist</th>\n",
              "      <th>depth</th>\n",
              "      <th>xm</th>\n",
              "      <th>md</th>\n",
              "      <th>richter</th>\n",
              "      <th>mw</th>\n",
              "      <th>ms</th>\n",
              "      <th>mb</th>\n",
              "      <th>year</th>\n",
              "      <th>month</th>\n",
              "      <th>weekday</th>\n",
              "    </tr>\n",
              "  </thead>\n",
              "  <tbody>\n",
              "    <tr>\n",
              "      <th>count</th>\n",
              "      <td>1.185000e+04</td>\n",
              "      <td>11850.000000</td>\n",
              "      <td>11850.000000</td>\n",
              "      <td>10062.000000</td>\n",
              "      <td>11850.000000</td>\n",
              "      <td>11850.000000</td>\n",
              "      <td>11850.000000</td>\n",
              "      <td>11850.000000</td>\n",
              "      <td>2156.000000</td>\n",
              "      <td>11850.000000</td>\n",
              "      <td>11850.000000</td>\n",
              "      <td>11850.000000</td>\n",
              "      <td>11850.000000</td>\n",
              "      <td>11850.000000</td>\n",
              "    </tr>\n",
              "    <tr>\n",
              "      <th>mean</th>\n",
              "      <td>1.993997e+13</td>\n",
              "      <td>38.745414</td>\n",
              "      <td>32.987835</td>\n",
              "      <td>3.175015</td>\n",
              "      <td>12.794177</td>\n",
              "      <td>3.979249</td>\n",
              "      <td>2.239924</td>\n",
              "      <td>1.762540</td>\n",
              "      <td>4.459323</td>\n",
              "      <td>0.577105</td>\n",
              "      <td>1.397671</td>\n",
              "      <td>1993.404557</td>\n",
              "      <td>6.483038</td>\n",
              "      <td>3.039072</td>\n",
              "    </tr>\n",
              "    <tr>\n",
              "      <th>std</th>\n",
              "      <td>1.922351e+11</td>\n",
              "      <td>1.312692</td>\n",
              "      <td>5.834084</td>\n",
              "      <td>4.715461</td>\n",
              "      <td>16.129368</td>\n",
              "      <td>0.550732</td>\n",
              "      <td>1.993712</td>\n",
              "      <td>2.068619</td>\n",
              "      <td>1.030654</td>\n",
              "      <td>1.561681</td>\n",
              "      <td>2.034418</td>\n",
              "      <td>19.028273</td>\n",
              "      <td>3.361991</td>\n",
              "      <td>2.021049</td>\n",
              "    </tr>\n",
              "    <tr>\n",
              "      <th>min</th>\n",
              "      <td>1.910000e+13</td>\n",
              "      <td>35.770000</td>\n",
              "      <td>25.540000</td>\n",
              "      <td>0.100000</td>\n",
              "      <td>0.000000</td>\n",
              "      <td>3.500000</td>\n",
              "      <td>0.000000</td>\n",
              "      <td>0.000000</td>\n",
              "      <td>0.000000</td>\n",
              "      <td>0.000000</td>\n",
              "      <td>0.000000</td>\n",
              "      <td>1911.000000</td>\n",
              "      <td>1.000000</td>\n",
              "      <td>0.000000</td>\n",
              "    </tr>\n",
              "    <tr>\n",
              "      <th>25%</th>\n",
              "      <td>1.980000e+13</td>\n",
              "      <td>37.730000</td>\n",
              "      <td>28.170000</td>\n",
              "      <td>1.400000</td>\n",
              "      <td>5.000000</td>\n",
              "      <td>3.600000</td>\n",
              "      <td>0.000000</td>\n",
              "      <td>0.000000</td>\n",
              "      <td>4.000000</td>\n",
              "      <td>0.000000</td>\n",
              "      <td>0.000000</td>\n",
              "      <td>1982.000000</td>\n",
              "      <td>4.000000</td>\n",
              "      <td>1.000000</td>\n",
              "    </tr>\n",
              "    <tr>\n",
              "      <th>50%</th>\n",
              "      <td>2.000000e+13</td>\n",
              "      <td>38.780000</td>\n",
              "      <td>30.280000</td>\n",
              "      <td>2.300000</td>\n",
              "      <td>8.500000</td>\n",
              "      <td>3.800000</td>\n",
              "      <td>3.500000</td>\n",
              "      <td>0.000000</td>\n",
              "      <td>4.600000</td>\n",
              "      <td>0.000000</td>\n",
              "      <td>0.000000</td>\n",
              "      <td>1999.000000</td>\n",
              "      <td>6.000000</td>\n",
              "      <td>3.000000</td>\n",
              "    </tr>\n",
              "    <tr>\n",
              "      <th>75%</th>\n",
              "      <td>2.010000e+13</td>\n",
              "      <td>39.600000</td>\n",
              "      <td>38.600000</td>\n",
              "      <td>3.600000</td>\n",
              "      <td>13.000000</td>\n",
              "      <td>4.200000</td>\n",
              "      <td>3.800000</td>\n",
              "      <td>3.900000</td>\n",
              "      <td>5.000000</td>\n",
              "      <td>0.000000</td>\n",
              "      <td>3.700000</td>\n",
              "      <td>2007.000000</td>\n",
              "      <td>10.000000</td>\n",
              "      <td>5.000000</td>\n",
              "    </tr>\n",
              "    <tr>\n",
              "      <th>max</th>\n",
              "      <td>2.020000e+13</td>\n",
              "      <td>46.350000</td>\n",
              "      <td>45.000000</td>\n",
              "      <td>95.400000</td>\n",
              "      <td>180.000000</td>\n",
              "      <td>7.900000</td>\n",
              "      <td>7.400000</td>\n",
              "      <td>7.200000</td>\n",
              "      <td>7.700000</td>\n",
              "      <td>7.900000</td>\n",
              "      <td>7.100000</td>\n",
              "      <td>2017.000000</td>\n",
              "      <td>12.000000</td>\n",
              "      <td>6.000000</td>\n",
              "    </tr>\n",
              "  </tbody>\n",
              "</table>\n",
              "</div>\n",
              "      <button class=\"colab-df-convert\" onclick=\"convertToInteractive('df-ee93b30a-2c82-40b4-9ab1-cf71910dd6a3')\"\n",
              "              title=\"Convert this dataframe to an interactive table.\"\n",
              "              style=\"display:none;\">\n",
              "        \n",
              "  <svg xmlns=\"http://www.w3.org/2000/svg\" height=\"24px\"viewBox=\"0 0 24 24\"\n",
              "       width=\"24px\">\n",
              "    <path d=\"M0 0h24v24H0V0z\" fill=\"none\"/>\n",
              "    <path d=\"M18.56 5.44l.94 2.06.94-2.06 2.06-.94-2.06-.94-.94-2.06-.94 2.06-2.06.94zm-11 1L8.5 8.5l.94-2.06 2.06-.94-2.06-.94L8.5 2.5l-.94 2.06-2.06.94zm10 10l.94 2.06.94-2.06 2.06-.94-2.06-.94-.94-2.06-.94 2.06-2.06.94z\"/><path d=\"M17.41 7.96l-1.37-1.37c-.4-.4-.92-.59-1.43-.59-.52 0-1.04.2-1.43.59L10.3 9.45l-7.72 7.72c-.78.78-.78 2.05 0 2.83L4 21.41c.39.39.9.59 1.41.59.51 0 1.02-.2 1.41-.59l7.78-7.78 2.81-2.81c.8-.78.8-2.07 0-2.86zM5.41 20L4 18.59l7.72-7.72 1.47 1.35L5.41 20z\"/>\n",
              "  </svg>\n",
              "      </button>\n",
              "      \n",
              "  <style>\n",
              "    .colab-df-container {\n",
              "      display:flex;\n",
              "      flex-wrap:wrap;\n",
              "      gap: 12px;\n",
              "    }\n",
              "\n",
              "    .colab-df-convert {\n",
              "      background-color: #E8F0FE;\n",
              "      border: none;\n",
              "      border-radius: 50%;\n",
              "      cursor: pointer;\n",
              "      display: none;\n",
              "      fill: #1967D2;\n",
              "      height: 32px;\n",
              "      padding: 0 0 0 0;\n",
              "      width: 32px;\n",
              "    }\n",
              "\n",
              "    .colab-df-convert:hover {\n",
              "      background-color: #E2EBFA;\n",
              "      box-shadow: 0px 1px 2px rgba(60, 64, 67, 0.3), 0px 1px 3px 1px rgba(60, 64, 67, 0.15);\n",
              "      fill: #174EA6;\n",
              "    }\n",
              "\n",
              "    [theme=dark] .colab-df-convert {\n",
              "      background-color: #3B4455;\n",
              "      fill: #D2E3FC;\n",
              "    }\n",
              "\n",
              "    [theme=dark] .colab-df-convert:hover {\n",
              "      background-color: #434B5C;\n",
              "      box-shadow: 0px 1px 3px 1px rgba(0, 0, 0, 0.15);\n",
              "      filter: drop-shadow(0px 1px 2px rgba(0, 0, 0, 0.3));\n",
              "      fill: #FFFFFF;\n",
              "    }\n",
              "  </style>\n",
              "\n",
              "      <script>\n",
              "        const buttonEl =\n",
              "          document.querySelector('#df-ee93b30a-2c82-40b4-9ab1-cf71910dd6a3 button.colab-df-convert');\n",
              "        buttonEl.style.display =\n",
              "          google.colab.kernel.accessAllowed ? 'block' : 'none';\n",
              "\n",
              "        async function convertToInteractive(key) {\n",
              "          const element = document.querySelector('#df-ee93b30a-2c82-40b4-9ab1-cf71910dd6a3');\n",
              "          const dataTable =\n",
              "            await google.colab.kernel.invokeFunction('convertToInteractive',\n",
              "                                                     [key], {});\n",
              "          if (!dataTable) return;\n",
              "\n",
              "          const docLinkHtml = 'Like what you see? Visit the ' +\n",
              "            '<a target=\"_blank\" href=https://colab.research.google.com/notebooks/data_table.ipynb>data table notebook</a>'\n",
              "            + ' to learn more about interactive tables.';\n",
              "          element.innerHTML = '';\n",
              "          dataTable['output_type'] = 'display_data';\n",
              "          await google.colab.output.renderOutput(dataTable, element);\n",
              "          const docLink = document.createElement('div');\n",
              "          docLink.innerHTML = docLinkHtml;\n",
              "          element.appendChild(docLink);\n",
              "        }\n",
              "      </script>\n",
              "    </div>\n",
              "  </div>\n",
              "  "
            ]
          },
          "metadata": {},
          "execution_count": 30
        }
      ]
    },
    {
      "cell_type": "code",
      "source": [
        "print(data.iloc[0])"
      ],
      "metadata": {
        "colab": {
          "base_uri": "https://localhost:8080/"
        },
        "id": "jgKEC7r2apFG",
        "outputId": "51738d9f-cf74-40c3-ca21-3fc20023c28a"
      },
      "execution_count": null,
      "outputs": [
        {
          "output_type": "stream",
          "name": "stdout",
          "text": [
            "id              20000000000000.0\n",
            "date         2003-05-20 00:00:00\n",
            "time                 12:17:44 AM\n",
            "lat                        39.04\n",
            "long                       40.38\n",
            "country                   turkey\n",
            "city                      bingol\n",
            "area                  baliklicay\n",
            "direction                   west\n",
            "dist                         0.1\n",
            "depth                       10.0\n",
            "xm                           4.1\n",
            "md                           4.1\n",
            "richter                      0.0\n",
            "mw                           NaN\n",
            "ms                           0.0\n",
            "mb                           0.0\n",
            "year                        2003\n",
            "month                          5\n",
            "weekday                        1\n",
            "Name: 0, dtype: object\n"
          ]
        }
      ]
    },
    {
      "cell_type": "code",
      "source": [
        "data.drop(['id', 'date', 'time', 'country', 'city', 'area', 'direction', 'dist','mw','xm','ms','year','month','weekday'], axis = 1, inplace = True)\n",
        "data.info()"
      ],
      "metadata": {
        "colab": {
          "base_uri": "https://localhost:8080/"
        },
        "id": "vt0SqaVPat0i",
        "outputId": "3e91cae3-77f5-4e13-861e-2d6eb97f0022"
      },
      "execution_count": null,
      "outputs": [
        {
          "output_type": "stream",
          "name": "stdout",
          "text": [
            "<class 'pandas.core.frame.DataFrame'>\n",
            "Int64Index: 11850 entries, 0 to 24006\n",
            "Data columns (total 6 columns):\n",
            " #   Column   Non-Null Count  Dtype  \n",
            "---  ------   --------------  -----  \n",
            " 0   lat      11850 non-null  float64\n",
            " 1   long     11850 non-null  float64\n",
            " 2   depth    11850 non-null  float64\n",
            " 3   md       11850 non-null  float64\n",
            " 4   richter  11850 non-null  float64\n",
            " 5   mb       11850 non-null  float64\n",
            "dtypes: float64(6)\n",
            "memory usage: 648.0 KB\n"
          ]
        },
        {
          "output_type": "stream",
          "name": "stderr",
          "text": [
            "/usr/local/lib/python3.8/dist-packages/pandas/core/frame.py:4906: SettingWithCopyWarning: \n",
            "A value is trying to be set on a copy of a slice from a DataFrame\n",
            "\n",
            "See the caveats in the documentation: https://pandas.pydata.org/pandas-docs/stable/user_guide/indexing.html#returning-a-view-versus-a-copy\n",
            "  return super().drop(\n"
          ]
        }
      ]
    },
    {
      "cell_type": "code",
      "source": [
        "data.describe() # Min Max %25 fln buluyo NOT: lat long yorumlanabilir verilerdeki 0 değerler kaldırılmalı"
      ],
      "metadata": {
        "colab": {
          "base_uri": "https://localhost:8080/",
          "height": 300
        },
        "id": "lvFy9_X2a5Ay",
        "outputId": "734c8b42-22db-4373-de06-608405efd8fe"
      },
      "execution_count": null,
      "outputs": [
        {
          "output_type": "execute_result",
          "data": {
            "text/plain": [
              "                lat          long         depth            md       richter  \\\n",
              "count  11850.000000  11850.000000  11850.000000  11850.000000  11850.000000   \n",
              "mean      38.745414     32.987835     12.794177      2.239924      1.762540   \n",
              "std        1.312692      5.834084     16.129368      1.993712      2.068619   \n",
              "min       35.770000     25.540000      0.000000      0.000000      0.000000   \n",
              "25%       37.730000     28.170000      5.000000      0.000000      0.000000   \n",
              "50%       38.780000     30.280000      8.500000      3.500000      0.000000   \n",
              "75%       39.600000     38.600000     13.000000      3.800000      3.900000   \n",
              "max       46.350000     45.000000    180.000000      7.400000      7.200000   \n",
              "\n",
              "                 mb  \n",
              "count  11850.000000  \n",
              "mean       1.397671  \n",
              "std        2.034418  \n",
              "min        0.000000  \n",
              "25%        0.000000  \n",
              "50%        0.000000  \n",
              "75%        3.700000  \n",
              "max        7.100000  "
            ],
            "text/html": [
              "\n",
              "  <div id=\"df-14d38940-4aeb-4477-b82f-b89fb2373e5a\">\n",
              "    <div class=\"colab-df-container\">\n",
              "      <div>\n",
              "<style scoped>\n",
              "    .dataframe tbody tr th:only-of-type {\n",
              "        vertical-align: middle;\n",
              "    }\n",
              "\n",
              "    .dataframe tbody tr th {\n",
              "        vertical-align: top;\n",
              "    }\n",
              "\n",
              "    .dataframe thead th {\n",
              "        text-align: right;\n",
              "    }\n",
              "</style>\n",
              "<table border=\"1\" class=\"dataframe\">\n",
              "  <thead>\n",
              "    <tr style=\"text-align: right;\">\n",
              "      <th></th>\n",
              "      <th>lat</th>\n",
              "      <th>long</th>\n",
              "      <th>depth</th>\n",
              "      <th>md</th>\n",
              "      <th>richter</th>\n",
              "      <th>mb</th>\n",
              "    </tr>\n",
              "  </thead>\n",
              "  <tbody>\n",
              "    <tr>\n",
              "      <th>count</th>\n",
              "      <td>11850.000000</td>\n",
              "      <td>11850.000000</td>\n",
              "      <td>11850.000000</td>\n",
              "      <td>11850.000000</td>\n",
              "      <td>11850.000000</td>\n",
              "      <td>11850.000000</td>\n",
              "    </tr>\n",
              "    <tr>\n",
              "      <th>mean</th>\n",
              "      <td>38.745414</td>\n",
              "      <td>32.987835</td>\n",
              "      <td>12.794177</td>\n",
              "      <td>2.239924</td>\n",
              "      <td>1.762540</td>\n",
              "      <td>1.397671</td>\n",
              "    </tr>\n",
              "    <tr>\n",
              "      <th>std</th>\n",
              "      <td>1.312692</td>\n",
              "      <td>5.834084</td>\n",
              "      <td>16.129368</td>\n",
              "      <td>1.993712</td>\n",
              "      <td>2.068619</td>\n",
              "      <td>2.034418</td>\n",
              "    </tr>\n",
              "    <tr>\n",
              "      <th>min</th>\n",
              "      <td>35.770000</td>\n",
              "      <td>25.540000</td>\n",
              "      <td>0.000000</td>\n",
              "      <td>0.000000</td>\n",
              "      <td>0.000000</td>\n",
              "      <td>0.000000</td>\n",
              "    </tr>\n",
              "    <tr>\n",
              "      <th>25%</th>\n",
              "      <td>37.730000</td>\n",
              "      <td>28.170000</td>\n",
              "      <td>5.000000</td>\n",
              "      <td>0.000000</td>\n",
              "      <td>0.000000</td>\n",
              "      <td>0.000000</td>\n",
              "    </tr>\n",
              "    <tr>\n",
              "      <th>50%</th>\n",
              "      <td>38.780000</td>\n",
              "      <td>30.280000</td>\n",
              "      <td>8.500000</td>\n",
              "      <td>3.500000</td>\n",
              "      <td>0.000000</td>\n",
              "      <td>0.000000</td>\n",
              "    </tr>\n",
              "    <tr>\n",
              "      <th>75%</th>\n",
              "      <td>39.600000</td>\n",
              "      <td>38.600000</td>\n",
              "      <td>13.000000</td>\n",
              "      <td>3.800000</td>\n",
              "      <td>3.900000</td>\n",
              "      <td>3.700000</td>\n",
              "    </tr>\n",
              "    <tr>\n",
              "      <th>max</th>\n",
              "      <td>46.350000</td>\n",
              "      <td>45.000000</td>\n",
              "      <td>180.000000</td>\n",
              "      <td>7.400000</td>\n",
              "      <td>7.200000</td>\n",
              "      <td>7.100000</td>\n",
              "    </tr>\n",
              "  </tbody>\n",
              "</table>\n",
              "</div>\n",
              "      <button class=\"colab-df-convert\" onclick=\"convertToInteractive('df-14d38940-4aeb-4477-b82f-b89fb2373e5a')\"\n",
              "              title=\"Convert this dataframe to an interactive table.\"\n",
              "              style=\"display:none;\">\n",
              "        \n",
              "  <svg xmlns=\"http://www.w3.org/2000/svg\" height=\"24px\"viewBox=\"0 0 24 24\"\n",
              "       width=\"24px\">\n",
              "    <path d=\"M0 0h24v24H0V0z\" fill=\"none\"/>\n",
              "    <path d=\"M18.56 5.44l.94 2.06.94-2.06 2.06-.94-2.06-.94-.94-2.06-.94 2.06-2.06.94zm-11 1L8.5 8.5l.94-2.06 2.06-.94-2.06-.94L8.5 2.5l-.94 2.06-2.06.94zm10 10l.94 2.06.94-2.06 2.06-.94-2.06-.94-.94-2.06-.94 2.06-2.06.94z\"/><path d=\"M17.41 7.96l-1.37-1.37c-.4-.4-.92-.59-1.43-.59-.52 0-1.04.2-1.43.59L10.3 9.45l-7.72 7.72c-.78.78-.78 2.05 0 2.83L4 21.41c.39.39.9.59 1.41.59.51 0 1.02-.2 1.41-.59l7.78-7.78 2.81-2.81c.8-.78.8-2.07 0-2.86zM5.41 20L4 18.59l7.72-7.72 1.47 1.35L5.41 20z\"/>\n",
              "  </svg>\n",
              "      </button>\n",
              "      \n",
              "  <style>\n",
              "    .colab-df-container {\n",
              "      display:flex;\n",
              "      flex-wrap:wrap;\n",
              "      gap: 12px;\n",
              "    }\n",
              "\n",
              "    .colab-df-convert {\n",
              "      background-color: #E8F0FE;\n",
              "      border: none;\n",
              "      border-radius: 50%;\n",
              "      cursor: pointer;\n",
              "      display: none;\n",
              "      fill: #1967D2;\n",
              "      height: 32px;\n",
              "      padding: 0 0 0 0;\n",
              "      width: 32px;\n",
              "    }\n",
              "\n",
              "    .colab-df-convert:hover {\n",
              "      background-color: #E2EBFA;\n",
              "      box-shadow: 0px 1px 2px rgba(60, 64, 67, 0.3), 0px 1px 3px 1px rgba(60, 64, 67, 0.15);\n",
              "      fill: #174EA6;\n",
              "    }\n",
              "\n",
              "    [theme=dark] .colab-df-convert {\n",
              "      background-color: #3B4455;\n",
              "      fill: #D2E3FC;\n",
              "    }\n",
              "\n",
              "    [theme=dark] .colab-df-convert:hover {\n",
              "      background-color: #434B5C;\n",
              "      box-shadow: 0px 1px 3px 1px rgba(0, 0, 0, 0.15);\n",
              "      filter: drop-shadow(0px 1px 2px rgba(0, 0, 0, 0.3));\n",
              "      fill: #FFFFFF;\n",
              "    }\n",
              "  </style>\n",
              "\n",
              "      <script>\n",
              "        const buttonEl =\n",
              "          document.querySelector('#df-14d38940-4aeb-4477-b82f-b89fb2373e5a button.colab-df-convert');\n",
              "        buttonEl.style.display =\n",
              "          google.colab.kernel.accessAllowed ? 'block' : 'none';\n",
              "\n",
              "        async function convertToInteractive(key) {\n",
              "          const element = document.querySelector('#df-14d38940-4aeb-4477-b82f-b89fb2373e5a');\n",
              "          const dataTable =\n",
              "            await google.colab.kernel.invokeFunction('convertToInteractive',\n",
              "                                                     [key], {});\n",
              "          if (!dataTable) return;\n",
              "\n",
              "          const docLinkHtml = 'Like what you see? Visit the ' +\n",
              "            '<a target=\"_blank\" href=https://colab.research.google.com/notebooks/data_table.ipynb>data table notebook</a>'\n",
              "            + ' to learn more about interactive tables.';\n",
              "          element.innerHTML = '';\n",
              "          dataTable['output_type'] = 'display_data';\n",
              "          await google.colab.output.renderOutput(dataTable, element);\n",
              "          const docLink = document.createElement('div');\n",
              "          docLink.innerHTML = docLinkHtml;\n",
              "          element.appendChild(docLink);\n",
              "        }\n",
              "      </script>\n",
              "    </div>\n",
              "  </div>\n",
              "  "
            ]
          },
          "metadata": {},
          "execution_count": 12
        }
      ]
    },
    {
      "cell_type": "code",
      "source": [
        "#outlier data detectliyoruz\n",
        "data_depth = data[\"depth\"]\n",
        "data_richter = data[\"richter\"]\n",
        "data_long = data[\"long\"]\n",
        "data_lat = data[\"lat\"]\n",
        "data_md = data[\"md\"]\n",
        "data_mb = data[\"mb\"]\n",
        "sns.boxplot(x = data_depth); ## Üst sınırdan itibaren aykırı veriler var şu çizgi çizgiler sondaki , kutu graiği yaptık"
      ],
      "metadata": {
        "colab": {
          "base_uri": "https://localhost:8080/",
          "height": 279
        },
        "id": "0MF5spBhbALO",
        "outputId": "3da6a396-9bb4-43c3-9f68-43c90b42ebcc"
      },
      "execution_count": null,
      "outputs": [
        {
          "output_type": "display_data",
          "data": {
            "text/plain": [
              "<Figure size 432x288 with 1 Axes>"
            ],
            "image/png": "[encoded data removed]"
          },
          "metadata": {
            "needs_background": "light"
          }
        }
      ]
    },
    {
      "cell_type": "code",
      "source": [
        "# IQR-> %75lik kısımla %25lik arasındaki fark gibi bişi. DataFrame'den geliyo. R->range\n",
        "Q1_depth = data_depth.quantile(0.25)\n",
        "Q3_depth = data_depth.quantile(0.75)\n",
        "IQR_depth = Q3_depth - Q1_depth \n",
        "Q1_lat = data_lat.quantile(0.25)\n",
        "Q3_lat = data_lat.quantile(0.75)\n",
        "IQR_lat = Q3_lat - Q1_lat\n",
        "Q1_long = data_long.quantile(0.25)\n",
        "Q3_long = data_long.quantile(0.75)\n",
        "IQR_long = Q3_long - Q1_long\n",
        "Q1_richter = data_richter.quantile(0.25)\n",
        "Q3_richter = data_richter.quantile(0.75)\n",
        "IQR_richter = Q3_richter - Q1_richter\n",
        "Q1_md = data_md.quantile(0.25)\n",
        "Q3_md = data_md.quantile(0.75)\n",
        "IQR_md = Q3_md - Q1_md\n",
        "Q1_mb = data_mb.quantile(0.25)\n",
        "Q3_mb = data_mb.quantile(0.75)\n",
        "IQR_mb = Q3_mb - Q1_mb"
      ],
      "metadata": {
        "id": "sgoT27S7bMxV"
      },
      "execution_count": null,
      "outputs": []
    },
    {
      "cell_type": "code",
      "source": [
        "alt_sinir_richter = Q1_richter - 1.5*IQR_richter\n",
        "ust_sinir_richter = Q3_richter + 1.5*IQR_richter\n",
        "alt_sinir_md = Q1_md - 1.5*IQR_md\n",
        "ust_sinir_md = Q3_md + 1.5*IQR_md\n",
        "alt_sinir_lat = Q1_lat - 1.5*IQR_lat\n",
        "ust_sinir_lat = Q3_lat + 1.5*IQR_lat\n",
        "alt_sinir_long = Q1_long - 1.5*IQR_long\n",
        "ust_sinir_long = Q3_long + 1.5*IQR_long\n",
        "alt_sinir_mb = Q1_mb - 1.5*IQR_mb\n",
        "ust_sinir_mb = Q3_mb + 1.5*IQR_mb\n",
        "alt_sinir_depth = Q1_depth - 1.5*IQR_depth\n",
        "ust_sinir_depth = Q3_depth + 1.5*IQR_depth"
      ],
      "metadata": {
        "id": "OpTr1J8JbPch"
      },
      "execution_count": null,
      "outputs": []
    },
    {
      "cell_type": "code",
      "source": [
        "#aşağıdakilere üst_sinir vs koymadan direkt sayı yazınca tabloda her şeye NaN yazıyo neden olduğunu hala çözemedim\n",
        "\n",
        "new_data = data.drop(data.index[data['lat'] >= ust_sinir_lat]) # Ust sınır 42 den yuksek olan satırları kaldırdım.\n",
        "new_data = new_data.drop(new_data.index[new_data['lat'] <= alt_sinir_lat]) # Alt sınır 36 dan kucuk olan satırları kaldırdım.\n",
        "new_data = new_data.drop(new_data.index[new_data['long'] >= ust_sinir_long]) # Ust sınır 45 ten buyuk olan satırları kaldırdım.\n",
        "new_data = new_data.drop(new_data.index[new_data['long'] <= alt_sinir_long]) # Alt sınır 26 dan kucuk olan satırları kaldırdım.\n",
        "new_data = new_data.drop(new_data.index[new_data['richter'] == 0]) # Richter degeri 0 olan satırları kaldırdım.\n",
        "new_data = new_data.drop(new_data.index[new_data['mb'] == 0]) # Mb degeri 0 olan satırları kaldırdım.\n",
        "new_data = new_data.drop(new_data.index[new_data['md'] == 0]) # Md degeri 0 olan satırları kaldırdım.\n",
        "new_data.describe()  # Yukarıda yaptığım işlemlerin doğruluğunu tespit etmek için min max değerlerine baktım."
      ],
      "metadata": {
        "colab": {
          "base_uri": "https://localhost:8080/",
          "height": 300
        },
        "id": "IfYfReSabQ4J",
        "outputId": "ca6cb265-6707-438f-8d23-07a3c86c0470"
      },
      "execution_count": null,
      "outputs": [
        {
          "output_type": "execute_result",
          "data": {
            "text/plain": [
              "               lat        long        depth           md      richter  \\\n",
              "count  1291.000000  1291.00000  1291.000000  1291.000000  1291.000000   \n",
              "mean     39.012742    32.72780    30.323315     4.720372     4.706662   \n",
              "std       1.367639     5.28505    22.488805     0.485778     0.474793   \n",
              "min      36.000000    25.74000     2.000000     3.500000     3.700000   \n",
              "25%      37.965000    29.03500    10.000000     4.300000     4.400000   \n",
              "50%      39.030000    30.18000    30.000000     4.700000     4.600000   \n",
              "75%      40.040000    36.53000    40.000000     5.000000     4.900000   \n",
              "max      42.300000    45.00000   180.000000     7.200000     7.200000   \n",
              "\n",
              "                mb  \n",
              "count  1291.000000  \n",
              "mean      4.743222  \n",
              "std       0.447827  \n",
              "min       3.900000  \n",
              "25%       4.400000  \n",
              "50%       4.700000  \n",
              "75%       5.000000  \n",
              "max       7.100000  "
            ],
            "text/html": [
              "\n",
              "  <div id=\"df-9267e3f7-2a61-459b-bbcb-84c09af5b321\">\n",
              "    <div class=\"colab-df-container\">\n",
              "      <div>\n",
              "<style scoped>\n",
              "    .dataframe tbody tr th:only-of-type {\n",
              "        vertical-align: middle;\n",
              "    }\n",
              "\n",
              "    .dataframe tbody tr th {\n",
              "        vertical-align: top;\n",
              "    }\n",
              "\n",
              "    .dataframe thead th {\n",
              "        text-align: right;\n",
              "    }\n",
              "</style>\n",
              "<table border=\"1\" class=\"dataframe\">\n",
              "  <thead>\n",
              "    <tr style=\"text-align: right;\">\n",
              "      <th></th>\n",
              "      <th>lat</th>\n",
              "      <th>long</th>\n",
              "      <th>depth</th>\n",
              "      <th>md</th>\n",
              "      <th>richter</th>\n",
              "      <th>mb</th>\n",
              "    </tr>\n",
              "  </thead>\n",
              "  <tbody>\n",
              "    <tr>\n",
              "      <th>count</th>\n",
              "      <td>1291.000000</td>\n",
              "      <td>1291.00000</td>\n",
              "      <td>1291.000000</td>\n",
              "      <td>1291.000000</td>\n",
              "      <td>1291.000000</td>\n",
              "      <td>1291.000000</td>\n",
              "    </tr>\n",
              "    <tr>\n",
              "      <th>mean</th>\n",
              "      <td>39.012742</td>\n",
              "      <td>32.72780</td>\n",
              "      <td>30.323315</td>\n",
              "      <td>4.720372</td>\n",
              "      <td>4.706662</td>\n",
              "      <td>4.743222</td>\n",
              "    </tr>\n",
              "    <tr>\n",
              "      <th>std</th>\n",
              "      <td>1.367639</td>\n",
              "      <td>5.28505</td>\n",
              "      <td>22.488805</td>\n",
              "      <td>0.485778</td>\n",
              "      <td>0.474793</td>\n",
              "      <td>0.447827</td>\n",
              "    </tr>\n",
              "    <tr>\n",
              "      <th>min</th>\n",
              "      <td>36.000000</td>\n",
              "      <td>25.74000</td>\n",
              "      <td>2.000000</td>\n",
              "      <td>3.500000</td>\n",
              "      <td>3.700000</td>\n",
              "      <td>3.900000</td>\n",
              "    </tr>\n",
              "    <tr>\n",
              "      <th>25%</th>\n",
              "      <td>37.965000</td>\n",
              "      <td>29.03500</td>\n",
              "      <td>10.000000</td>\n",
              "      <td>4.300000</td>\n",
              "      <td>4.400000</td>\n",
              "      <td>4.400000</td>\n",
              "    </tr>\n",
              "    <tr>\n",
              "      <th>50%</th>\n",
              "      <td>39.030000</td>\n",
              "      <td>30.18000</td>\n",
              "      <td>30.000000</td>\n",
              "      <td>4.700000</td>\n",
              "      <td>4.600000</td>\n",
              "      <td>4.700000</td>\n",
              "    </tr>\n",
              "    <tr>\n",
              "      <th>75%</th>\n",
              "      <td>40.040000</td>\n",
              "      <td>36.53000</td>\n",
              "      <td>40.000000</td>\n",
              "      <td>5.000000</td>\n",
              "      <td>4.900000</td>\n",
              "      <td>5.000000</td>\n",
              "    </tr>\n",
              "    <tr>\n",
              "      <th>max</th>\n",
              "      <td>42.300000</td>\n",
              "      <td>45.00000</td>\n",
              "      <td>180.000000</td>\n",
              "      <td>7.200000</td>\n",
              "      <td>7.200000</td>\n",
              "      <td>7.100000</td>\n",
              "    </tr>\n",
              "  </tbody>\n",
              "</table>\n",
              "</div>\n",
              "      <button class=\"colab-df-convert\" onclick=\"convertToInteractive('df-9267e3f7-2a61-459b-bbcb-84c09af5b321')\"\n",
              "              title=\"Convert this dataframe to an interactive table.\"\n",
              "              style=\"display:none;\">\n",
              "        \n",
              "  <svg xmlns=\"http://www.w3.org/2000/svg\" height=\"24px\"viewBox=\"0 0 24 24\"\n",
              "       width=\"24px\">\n",
              "    <path d=\"M0 0h24v24H0V0z\" fill=\"none\"/>\n",
              "    <path d=\"M18.56 5.44l.94 2.06.94-2.06 2.06-.94-2.06-.94-.94-2.06-.94 2.06-2.06.94zm-11 1L8.5 8.5l.94-2.06 2.06-.94-2.06-.94L8.5 2.5l-.94 2.06-2.06.94zm10 10l.94 2.06.94-2.06 2.06-.94-2.06-.94-.94-2.06-.94 2.06-2.06.94z\"/><path d=\"M17.41 7.96l-1.37-1.37c-.4-.4-.92-.59-1.43-.59-.52 0-1.04.2-1.43.59L10.3 9.45l-7.72 7.72c-.78.78-.78 2.05 0 2.83L4 21.41c.39.39.9.59 1.41.59.51 0 1.02-.2 1.41-.59l7.78-7.78 2.81-2.81c.8-.78.8-2.07 0-2.86zM5.41 20L4 18.59l7.72-7.72 1.47 1.35L5.41 20z\"/>\n",
              "  </svg>\n",
              "      </button>\n",
              "      \n",
              "  <style>\n",
              "    .colab-df-container {\n",
              "      display:flex;\n",
              "      flex-wrap:wrap;\n",
              "      gap: 12px;\n",
              "    }\n",
              "\n",
              "    .colab-df-convert {\n",
              "      background-color: #E8F0FE;\n",
              "      border: none;\n",
              "      border-radius: 50%;\n",
              "      cursor: pointer;\n",
              "      display: none;\n",
              "      fill: #1967D2;\n",
              "      height: 32px;\n",
              "      padding: 0 0 0 0;\n",
              "      width: 32px;\n",
              "    }\n",
              "\n",
              "    .colab-df-convert:hover {\n",
              "      background-color: #E2EBFA;\n",
              "      box-shadow: 0px 1px 2px rgba(60, 64, 67, 0.3), 0px 1px 3px 1px rgba(60, 64, 67, 0.15);\n",
              "      fill: #174EA6;\n",
              "    }\n",
              "\n",
              "    [theme=dark] .colab-df-convert {\n",
              "      background-color: #3B4455;\n",
              "      fill: #D2E3FC;\n",
              "    }\n",
              "\n",
              "    [theme=dark] .colab-df-convert:hover {\n",
              "      background-color: #434B5C;\n",
              "      box-shadow: 0px 1px 3px 1px rgba(0, 0, 0, 0.15);\n",
              "      filter: drop-shadow(0px 1px 2px rgba(0, 0, 0, 0.3));\n",
              "      fill: #FFFFFF;\n",
              "    }\n",
              "  </style>\n",
              "\n",
              "      <script>\n",
              "        const buttonEl =\n",
              "          document.querySelector('#df-9267e3f7-2a61-459b-bbcb-84c09af5b321 button.colab-df-convert');\n",
              "        buttonEl.style.display =\n",
              "          google.colab.kernel.accessAllowed ? 'block' : 'none';\n",
              "\n",
              "        async function convertToInteractive(key) {\n",
              "          const element = document.querySelector('#df-9267e3f7-2a61-459b-bbcb-84c09af5b321');\n",
              "          const dataTable =\n",
              "            await google.colab.kernel.invokeFunction('convertToInteractive',\n",
              "                                                     [key], {});\n",
              "          if (!dataTable) return;\n",
              "\n",
              "          const docLinkHtml = 'Like what you see? Visit the ' +\n",
              "            '<a target=\"_blank\" href=https://colab.research.google.com/notebooks/data_table.ipynb>data table notebook</a>'\n",
              "            + ' to learn more about interactive tables.';\n",
              "          element.innerHTML = '';\n",
              "          dataTable['output_type'] = 'display_data';\n",
              "          await google.colab.output.renderOutput(dataTable, element);\n",
              "          const docLink = document.createElement('div');\n",
              "          docLink.innerHTML = docLinkHtml;\n",
              "          element.appendChild(docLink);\n",
              "        }\n",
              "      </script>\n",
              "    </div>\n",
              "  </div>\n",
              "  "
            ]
          },
          "metadata": {},
          "execution_count": 16
        }
      ]
    },
    {
      "cell_type": "code",
      "source": [
        "mask = np.triu(np.ones_like(data.corr(), dtype = np.bool))\n",
        "\n",
        "plt.figure(figsize = (6, 6))\n",
        "\n",
        "# Generate a custom diverging colormap\n",
        "cmap = sns.diverging_palette(220, 10, as_cmap = True)\n",
        "\n",
        "sns.heatmap(data.corr(), mask = mask, cmap = cmap, center = 0,\n",
        "             linewidths = .3, fmt= '.2f', cbar_kws = {\"shrink\": .6})"
      ],
      "metadata": {
        "colab": {
          "base_uri": "https://localhost:8080/",
          "height": 468
        },
        "id": "rk7pdIIKdgBD",
        "outputId": "f0e7c336-2108-48d3-ff58-d68c1b211449"
      },
      "execution_count": null,
      "outputs": [
        {
          "output_type": "stream",
          "name": "stderr",
          "text": [
            "<ipython-input-17-3f50303ba182>:1: DeprecationWarning: `np.bool` is a deprecated alias for the builtin `bool`. To silence this warning, use `bool` by itself. Doing this will not modify any behavior and is safe. If you specifically wanted the numpy scalar type, use `np.bool_` here.\n",
            "Deprecated in NumPy 1.20; for more details and guidance: https://numpy.org/devdocs/release/1.20.0-notes.html#deprecations\n",
            "  mask = np.triu(np.ones_like(data.corr(), dtype = np.bool))\n"
          ]
        },
        {
          "output_type": "execute_result",
          "data": {
            "text/plain": [
              "<matplotlib.axes._subplots.AxesSubplot at 0x7f65da8df880>"
            ]
          },
          "metadata": {},
          "execution_count": 17
        },
        {
          "output_type": "display_data",
          "data": {
            "text/plain": [
              "<Figure size 432x432 with 2 Axes>"
            ],
            "image/png": "[encoded data removed]"
          },
          "metadata": {
            "needs_background": "light"
          }
        }
      ]
    },
    {
      "cell_type": "code",
      "source": [
        "#özdeğerle tahmin edilcek değeri ayırıyoruz bence ayırmasak da olur ama halletcem dur\n",
        "\n",
        "\n",
        "X=new_data.drop('richter',axis=1,inplace=False) # Tahmin edeceğim sütunu yani ritcher sütununu çıkarıyorum.\n",
        "y=new_data['richter']\n",
        "\n",
        "# Veri setinin 20/80 olarak test ve eğitim verileri olmak üzereye ikiye ayırdım.\n",
        "\n",
        "X_train, X_test, y_train, y_test = train_test_split(X,y, test_size = 0.2, random_state = 21)\n",
        "\n",
        "print(X_train.shape)\n",
        "print(y_train.shape)\n",
        "print(X_test.shape)\n",
        "print(y_train.shape)"
      ],
      "metadata": {
        "colab": {
          "base_uri": "https://localhost:8080/"
        },
        "id": "HeNs8E2EbVui",
        "outputId": "213c17a7-fc2d-4f88-b06b-b54d3284dcdf"
      },
      "execution_count": null,
      "outputs": [
        {
          "output_type": "stream",
          "name": "stdout",
          "text": [
            "(1032, 5)\n",
            "(1032,)\n",
            "(259, 5)\n",
            "(1032,)\n"
          ]
        }
      ]
    },
    {
      "cell_type": "code",
      "source": [
        "linear=LinearRegression() \n",
        "linear.fit(X_train,y_train) #Eğitim verileri\n",
        "\n",
        "test_veri_skoru=linear.score(X_test,y_test)  # Test verilerinin skoru\n",
        "print(test_veri_skoru)\n",
        "\n",
        "print('coefficients: \\n',linear.coef_) \n",
        "print('intercepts: \\n',linear.intercept_)\n",
        "\n",
        "y_pred = linear.predict(X_test)\n",
        "\n",
        "data = pd.DataFrame({'Gerçek': y_test, 'Tahmin': y_pred})\n",
        "print(data)\n"
      ],
      "metadata": {
        "colab": {
          "base_uri": "https://localhost:8080/"
        },
        "id": "RFdbmUBlbr_p",
        "outputId": "1e30875c-aacc-4189-d160-51b9d68ab405"
      },
      "execution_count": null,
      "outputs": [
        {
          "output_type": "stream",
          "name": "stdout",
          "text": [
            "0.9697063127440474\n",
            "coefficients: \n",
            " [-2.38406864e-03  2.45478937e-04 -3.15144736e-04  7.31666055e-01\n",
            "  2.51519241e-01]\n",
            "intercepts: \n",
            " 0.15432286654705685\n",
            "      Gerçek    Tahmin\n",
            "875      3.9  4.004041\n",
            "318      4.1  4.191079\n",
            "9517     4.3  4.315844\n",
            "1606     5.3  5.360285\n",
            "7745     4.6  4.608419\n",
            "...      ...       ...\n",
            "7038     4.3  4.192060\n",
            "3208     5.0  5.027767\n",
            "8114     4.6  4.581918\n",
            "572      4.9  4.961693\n",
            "9371     4.3  4.291536\n",
            "\n",
            "[259 rows x 2 columns]\n"
          ]
        }
      ]
    },
    {
      "cell_type": "code",
      "source": [
        "from sklearn import metrics\n",
        "print('Mean Absolute Error:', metrics.mean_absolute_error(y_test, y_pred))\n",
        "print('Mean Squared Error:', metrics.mean_squared_error(y_test, y_pred))\n",
        "print('Root Mean Squared Error:', np.sqrt(metrics.mean_squared_error(y_test, y_pred)))"
      ],
      "metadata": {
        "colab": {
          "base_uri": "https://localhost:8080/"
        },
        "id": "WjhDdOjkbt5j",
        "outputId": "c2cae923-42b0-4e4d-eafc-4c977838a9c3"
      },
      "execution_count": null,
      "outputs": [
        {
          "output_type": "stream",
          "name": "stdout",
          "text": [
            "Mean Absolute Error: 0.056870117020785683\n",
            "Mean Squared Error: 0.007450446992851479\n",
            "Root Mean Squared Error: 0.0863159718293867\n"
          ]
        }
      ]
    },
    {
      "cell_type": "code",
      "source": [
        "print(X_train)"
      ],
      "metadata": {
        "colab": {
          "base_uri": "https://localhost:8080/"
        },
        "id": "g_hCX5F1xcfE",
        "outputId": "a96784d0-df75-46f2-ec61-c28e47774972"
      },
      "execution_count": null,
      "outputs": [
        {
          "output_type": "stream",
          "name": "stdout",
          "text": [
            "         lat   long  depth   md   mb\n",
            "4942   40.24  28.16   23.0  5.0  5.4\n",
            "5743   36.47  36.14   10.0  5.1  5.1\n",
            "11162  40.29  26.15   50.0  5.0  5.1\n",
            "1350   38.51  39.25   10.0  5.0  5.0\n",
            "154    39.09  29.59   29.0  4.6  4.6\n",
            "...      ...    ...    ...  ...  ...\n",
            "2872   37.31  27.87   15.0  4.0  4.1\n",
            "380    41.00  33.70   10.0  4.7  4.8\n",
            "6377   39.28  29.46   17.0  4.8  4.8\n",
            "10726  36.52  34.34   10.0  5.4  5.4\n",
            "7999   37.41  29.74   21.0  4.3  4.4\n",
            "\n",
            "[1032 rows x 5 columns]\n"
          ]
        }
      ]
    },
    {
      "cell_type": "code",
      "source": [
        "linear_predict_data=np.array([[39.21,41.40,14.0,4.7,4.7]])   # richter değeri : 4.7\n",
        "tahminDeğeri=linear.predict(linear_predict_data)\n",
        "print(\"4.7 ritcher değerine sahip bilgilerin tahmini sonucu çıkan değer:\", tahminDeğeri)"
      ],
      "metadata": {
        "colab": {
          "base_uri": "https://localhost:8080/"
        },
        "id": "vJ1Z8vAZbwe1",
        "outputId": "a72f2379-c945-4d44-df9d-68fc8a4ae9d0"
      },
      "execution_count": null,
      "outputs": [
        {
          "output_type": "stream",
          "name": "stdout",
          "text": [
            "4.7 ritcher değerine sahip bilgilerin tahmini sonucu çıkan değer: [4.68756522]\n"
          ]
        },
        {
          "output_type": "stream",
          "name": "stderr",
          "text": [
            "/usr/local/lib/python3.8/dist-packages/sklearn/base.py:450: UserWarning: X does not have valid feature names, but LinearRegression was fitted with feature names\n",
            "  warnings.warn(\n"
          ]
        }
      ]
    },
    {
      "cell_type": "code",
      "source": [],
      "metadata": {
        "id": "9KcVMhdbbzbx"
      },
      "execution_count": null,
      "outputs": []
    }
  ]
}